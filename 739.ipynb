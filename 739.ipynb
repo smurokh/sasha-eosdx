{
 "cells": [
  {
   "cell_type": "code",
   "execution_count": null,
   "metadata": {},
   "outputs": [],
   "source": [
    "import seaborn as sns\n",
    "import pandas as pd\n",
    "import matplotlib.pyplot as plt\n",
    "%matplotlib qt\n",
    "import numpy as np\n",
    "from sklearn.decomposition import PCA"
   ]
  },
  {
   "cell_type": "code",
   "execution_count": null,
   "metadata": {},
   "outputs": [],
   "source": [
    "df = pd.read_json('unzipped_path/data.json')\n",
    "df"
   ]
  },
  {
   "cell_type": "code",
   "execution_count": null,
   "metadata": {},
   "outputs": [],
   "source": [
    "VAR_calibration = 739\n",
    "VAR_threshold = 1000"
   ]
  },
  {
   "cell_type": "markdown",
   "metadata": {},
   "source": [
    "Function to remove centre beam:"
   ]
  },
  {
   "cell_type": "code",
   "execution_count": null,
   "metadata": {},
   "outputs": [],
   "source": [
    "def remove_centre_beam(xray_image):\n",
    "    threshold_value = VAR_threshold\n",
    "    primary_beam_mask = xray_image > threshold_value\n",
    "    true_indices = np.argwhere(primary_beam_mask)\n",
    "    min_row = true_indices[:, 0].min()\n",
    "    max_row = true_indices[:, 0].max()\n",
    "    min_col = true_indices[:, 1].min()\n",
    "    max_col = true_indices[:, 1].max()\n",
    "    isolated_beam = np.zeros_like(xray_image)\n",
    "    isolated_beam[min_row:max_row+1, min_col:max_col+1] = xray_image[min_row:max_row+1, min_col:max_col+1]\n",
    "    return isolated_beam"
   ]
  },
  {
   "cell_type": "markdown",
   "metadata": {},
   "source": [
    "Create an averaged matrix of all samples within the calibration:"
   ]
  },
  {
   "cell_type": "code",
   "execution_count": null,
   "metadata": {},
   "outputs": [],
   "source": [
    "totals= np.zeros([256, 256]) \n",
    "number_samples=0\n",
    "\n",
    "for index,row in df.iterrows():\n",
    "    if row['calibration_measurement_id']==VAR_calibration:\n",
    "        xray_image = np.array(row['measurement_data'])\n",
    "        isolated_beam = remove_centre_beam(xray_image)\n",
    "        xray_image = np.fft.fft2(xray_image)\n",
    "        isolated_beam = np.fft.fft2(isolated_beam)\n",
    "        img = np.absolute(np.subtract(xray_image,isolated_beam)) ## full pic in fourier space\n",
    "        img = np.divide(img, img[0][0]) ## normalisation\n",
    "        totals = np.add(totals,img)  ## create an averaged matrix of all samples\n",
    "        number_samples+=1\n",
    "totals = np.divide(totals, number_samples)"
   ]
  },
  {
   "cell_type": "markdown",
   "metadata": {},
   "source": [
    "Create a flattened matrix of all standardised samples:"
   ]
  },
  {
   "cell_type": "code",
   "execution_count": null,
   "metadata": {},
   "outputs": [],
   "source": [
    "matrix = np.empty([number_samples, 65536])\n",
    "counter = 0\n",
    "for index,row in df.iterrows():\n",
    "    if row['calibration_measurement_id']==VAR_calibration:\n",
    "        xray_image = np.array(row['measurement_data'])\n",
    "        isolated_beam = remove_centre_beam(xray_image)\n",
    "        xray_image = np.fft.fft2(xray_image)\n",
    "        isolated_beam = np.fft.fft2(isolated_beam)\n",
    "        img = np.absolute(np.subtract(xray_image,isolated_beam)) ## full pic in fourier space\n",
    "        img = np.divide(img, img[0][0]) ## normalisation\n",
    "        img = np.divide(img,totals) ## divide by average - standartisation\n",
    "        img = np.ravel(img) ## flatten\n",
    "        matrix[counter] = img\n",
    "        counter+=1"
   ]
  },
  {
   "cell_type": "markdown",
   "metadata": {},
   "source": [
    "Create a \"key\" for all t/f values of the samples:"
   ]
  },
  {
   "cell_type": "code",
   "execution_count": null,
   "metadata": {},
   "outputs": [],
   "source": [
    "key = []\n",
    "for index,row in df.iterrows():\n",
    "    if row['calibration_measurement_id']==VAR_calibration:\n",
    "        key+= [row['cancer_tissue']]"
   ]
  },
  {
   "cell_type": "code",
   "execution_count": null,
   "metadata": {},
   "outputs": [],
   "source": [
    "key2 = []\n",
    "for index,row in df.iterrows():\n",
    "    if row['calibration_measurement_id']==VAR_calibration:\n",
    "        key2+= [row['cancer_diagnosis']]"
   ]
  },
  {
   "cell_type": "markdown",
   "metadata": {},
   "source": [
    "Perform PCA:"
   ]
  },
  {
   "cell_type": "code",
   "execution_count": null,
   "metadata": {},
   "outputs": [],
   "source": [
    "pca = PCA(n_components=3)\n",
    "fitted = pca.fit(matrix)\n",
    "transformed = pca.transform(matrix)"
   ]
  },
  {
   "cell_type": "markdown",
   "metadata": {},
   "source": [
    "Graph PCA:"
   ]
  },
  {
   "cell_type": "code",
   "execution_count": null,
   "metadata": {},
   "outputs": [],
   "source": [
    "x = transformed[:, 0]\n",
    "y = transformed[:, 1]\n",
    "z = transformed[:, 2]\n",
    "fig = plt.figure()\n",
    "ax = fig.add_subplot(111, projection='3d')\n",
    "\n",
    "counter = 0\n",
    "for item in key:\n",
    "    if item and not key2[counter]:\n",
    "        ax.scatter(transformed[counter, 0], transformed[counter, 1], transformed[counter, 2], c='purple', label='Benign')\n",
    "    elif item:\n",
    "        ax.scatter(transformed[counter, 0], transformed[counter, 1], transformed[counter, 2], c='blue', label='Cancer')\n",
    "    else:\n",
    "        ax.scatter(transformed[counter, 0], transformed[counter, 1], transformed[counter, 2], c='red', label='Non-Cancer') \n",
    "    counter+=1\n",
    "\n",
    "ax.set_xlabel('pc0')\n",
    "ax.set_ylabel('pc1')\n",
    "ax.set_zlabel('pc2')\n",
    "plt.title('calibration '+str(VAR_calibration))\n",
    "plt.show()"
   ]
  }
 ],
 "metadata": {
  "kernelspec": {
   "display_name": "eosdx",
   "language": "python",
   "name": "python3"
  },
  "language_info": {
   "codemirror_mode": {
    "name": "ipython",
    "version": 3
   },
   "file_extension": ".py",
   "mimetype": "text/x-python",
   "name": "python",
   "nbconvert_exporter": "python",
   "pygments_lexer": "ipython3",
   "version": "3.11.7"
  }
 },
 "nbformat": 4,
 "nbformat_minor": 2
}
