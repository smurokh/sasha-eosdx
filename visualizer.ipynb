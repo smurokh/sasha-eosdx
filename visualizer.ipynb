{
 "cells": [
  {
   "cell_type": "code",
   "execution_count": null,
   "metadata": {},
   "outputs": [],
   "source": [
    "import seaborn as sns\n",
    "import pandas as pd\n",
    "import matplotlib.pyplot as plt\n",
    "import numpy as np\n",
    "import openpyxl"
   ]
  },
  {
   "cell_type": "code",
   "execution_count": null,
   "metadata": {},
   "outputs": [],
   "source": [
    "df = pd.read_json('unzipped_path/data.json')\n",
    "#print(df.info())\n",
    "df"
   ]
  },
  {
   "cell_type": "code",
   "execution_count": null,
   "metadata": {},
   "outputs": [],
   "source": [
    "df.to_excel(\"dataframe.xlsx\", index=False)"
   ]
  },
  {
   "cell_type": "markdown",
   "metadata": {},
   "source": [
    "Index: 4837 entries, 10059 to 10919\n",
    "Data columns (total 38 columns):\n",
    " #   Column                       Non-Null Count  Dtype  \n",
    "---  ------                       --------------  -----  \n",
    " 0   calibration_measurement_id   4837 non-null   int64  \n",
    " 1   blind                        4837 non-null   bool   \n",
    " 2   s3_link                      0 non-null      float64\n",
    " 3   cancer_tissue                4837 non-null   bool   \n",
    " 4   tissue_type                  4837 non-null   object \n",
    " 5   tissue_size                  0 non-null      float64\n",
    " 6   exposure_time                4837 non-null   int64  \n",
    " 7   calibration_date             4837 non-null   object \n",
    " 8   calculated_distance          0 non-null      float64\n",
    " 9   calibration_manual_distance  4837 non-null   int64  \n",
    " 10  measurement_date             4837 non-null   object \n",
    " 11  measurement_manual_distance  0 non-null      float64\n",
    " 12  code_name                    4837 non-null   object \n",
    " 13  cancer_diagnosis             4837 non-null   bool   \n",
    " 14  hours_since_inoculation      0 non-null      float64\n",
    " 15  diagnosis                    0 non-null      float64\n",
    " 16  diag_full                    0 non-null      float64\n",
    " 17  receptor                     0 non-null      float64\n",
    " 18  sample_id                    4837 non-null   int64  \n",
    " 19  sample_type                  0 non-null      float64\n",
    " 20  study_name                   4837 non-null   object \n",
    " 21  target                       4837 non-null   object \n",
    " 22  wavelength                   4837 non-null   float64\n",
    " 23  name                         4837 non-null   object \n",
    " 24  machine_id                   4837 non-null   int64  \n",
    " 25  study_id                     4837 non-null   int64  \n",
    " 26  patient_id                   4837 non-null   int64  \n",
    " 27  measurement_orig_file_name   4837 non-null   object \n",
    " 28  pixel_size                   4837 non-null   int64  \n",
    " 29  center_col                   0 non-null      float64\n",
    " 30  center_row                   0 non-null      float64\n",
    " 31  helium                       4837 non-null   bool   \n",
    " 32  background_id                0 non-null      float64\n",
    " 33  background_orig_file_name    0 non-null      float64\n",
    " 34  background_date              0 non-null      float64\n",
    " 35  is_excluded                  4837 non-null   bool   \n",
    " 36  ponifile                     4837 non-null   object \n",
    " 37  measurement_data             4837 non-null   object "
   ]
  },
  {
   "cell_type": "code",
   "execution_count": null,
   "metadata": {},
   "outputs": [],
   "source": [
    "for index,row in df.iterrows():\n",
    "    sns.heatmap(row['measurement_data'],robust=True)\n",
    "    plt.show()"
   ]
  },
  {
   "cell_type": "code",
   "execution_count": null,
   "metadata": {},
   "outputs": [],
   "source": [
    "from collections import Counter\n",
    "output = []\n",
    "for index,row in df.iterrows():\n",
    "    output += [row['calibration_measurement_id']]\n",
    "counts = Counter(output)\n",
    "print(counts)"
   ]
  },
  {
   "cell_type": "markdown",
   "metadata": {},
   "source": [
    "^ separate by calibrations"
   ]
  },
  {
   "cell_type": "code",
   "execution_count": null,
   "metadata": {},
   "outputs": [],
   "source": [
    "#test reflect"
   ]
  },
  {
   "cell_type": "code",
   "execution_count": null,
   "metadata": {},
   "outputs": [],
   "source": [
    "def reflect_left_to_bottom(image):\n",
    "    transposed = np.transpose(image)\n",
    "    transposed = transposed[::-1]\n",
    "    return transposed"
   ]
  },
  {
   "cell_type": "code",
   "execution_count": null,
   "metadata": {},
   "outputs": [],
   "source": [
    "def reflect_bottom_to_left(image):\n",
    "    transposed = np.transpose(image)\n",
    "    transposed = transposed[:, ::-1]\n",
    "    return transposed"
   ]
  },
  {
   "cell_type": "code",
   "execution_count": null,
   "metadata": {},
   "outputs": [],
   "source": [
    "from collections import Counter\n",
    "output = []\n",
    "for index,row in df.iterrows():\n",
    "    output += [index]\n",
    "output.sort()\n",
    "print(output)"
   ]
  },
  {
   "cell_type": "code",
   "execution_count": null,
   "metadata": {},
   "outputs": [],
   "source": [
    "for index,row in df.iterrows():\n",
    "    if row['calibration_measurement_id']==747:\n",
    "        xray_image = np.array(row['measurement_data'])\n",
    "        plt.imshow(np.log(xray_image+1), cmap='hot')\n",
    "        plt.title(index)\n",
    "        plt.show()\n",
    "\n",
    "        threshold_value = 1000\n",
    "        primary_beam_mask = xray_image > threshold_value\n",
    "        true_indices = np.argwhere(primary_beam_mask)\n",
    "        min_row = true_indices[:, 0].min()\n",
    "        max_row = true_indices[:, 0].max()\n",
    "        min_col = true_indices[:, 1].min()\n",
    "        max_col = true_indices[:, 1].max()\n",
    "        isolated_beam = np.zeros_like(xray_image)\n",
    "        isolated_beam[min_row:max_row+1, min_col:max_col+1] = xray_image[min_row:max_row+1, min_col:max_col+1]\n",
    "\n",
    "        plt.imshow(np.log(isolated_beam+1), cmap='hot')\n",
    "        plt.title(str(index) + 'primary')\n",
    "        plt.show()"
   ]
  },
  {
   "cell_type": "markdown",
   "metadata": {},
   "source": [
    "^^ isolate beam "
   ]
  },
  {
   "cell_type": "code",
   "execution_count": null,
   "metadata": {},
   "outputs": [],
   "source": [
    "output = {738: [0,0], 737: [0,0], 732: [0,0], 727: [0,0], 728: [0,0], 739: [0,0], \n",
    "              731: [0,0], 734: [0,0], 724: [0,0], 747: [0,0], 720: [0,0], 736: [0,0], \n",
    "              730: [0,0], 719: [0,0], 748: [0,0], 726: [0,0], 713: [0,0], 722: [0,0], \n",
    "              746: [0,0], 745: [0,0], 741: [0,0], 725: [0,0], 743: [0,0], 742: [0,0], \n",
    "              716: [0,0], 723: [0,0], 715: [0,0], 729: [0,0], 735: [0,0], 718: [0,0], \n",
    "              744: [0,0], 721: [0,0], 717: [0,0], 740: [0,0], 733: [0,0]}\n",
    "for id in output:\n",
    "    for index,row in df.iterrows():\n",
    "        if row['calibration_measurement_id']==id:\n",
    "            if row['cancer_tissue']:\n",
    "                output[id][0] += 1\n",
    "            else:\n",
    "                output[id][1] += 1\n",
    "print(output)"
   ]
  },
  {
   "cell_type": "markdown",
   "metadata": {},
   "source": [
    "^^ t/f for all calibrations"
   ]
  },
  {
   "cell_type": "code",
   "execution_count": null,
   "metadata": {},
   "outputs": [],
   "source": [
    "for index,row in df.iterrows():\n",
    "    if row['cancer_tissue'] and not row['cancer_diagnosis']:\n",
    "        print(row['calibration_measurement_id'])"
   ]
  },
  {
   "cell_type": "code",
   "execution_count": null,
   "metadata": {},
   "outputs": [],
   "source": [
    "output = {738: 0, 737: 0, 732: 0, 727: 0, 728: 0, 739: 0, \n",
    "              731: 0, 734: 0, 724: 0, 747: 0, 720: 0, 736: 0, \n",
    "              730: 0, 719: 0, 748: 0, 726: 0, 713: 0, 722: 0, \n",
    "              746: 0, 745: 0, 741: 0, 725: 0, 743: 0, 742: 0, \n",
    "              716: 0, 723: 0, 715: 0, 729: 0, 735: 0, 718: 0, \n",
    "              744: 0, 721: 0, 717: 0, 740: 0, 733: 0}\n",
    "for id in output:\n",
    "    for index,row in df.iterrows():\n",
    "        if row['calibration_measurement_id']==id:\n",
    "            if row['calibration_manual_distance']==20:\n",
    "                if (output[id] != 20) and (output[id] != 0):\n",
    "                    print('error')\n",
    "                output[id] = 20\n",
    "            else:\n",
    "                if (output[id] != 160) and (output[id] != 0):\n",
    "                    print('error')\n",
    "                output[id] = 160\n",
    "print(output)"
   ]
  }
 ],
 "metadata": {
  "kernelspec": {
   "display_name": "eosdx",
   "language": "python",
   "name": "python3"
  },
  "language_info": {
   "codemirror_mode": {
    "name": "ipython",
    "version": 3
   },
   "file_extension": ".py",
   "mimetype": "text/x-python",
   "name": "python",
   "nbconvert_exporter": "python",
   "pygments_lexer": "ipython3",
   "version": "3.11.7"
  }
 },
 "nbformat": 4,
 "nbformat_minor": 2
}
